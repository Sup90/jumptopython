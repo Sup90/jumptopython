{
 "cells": [
  {
   "cell_type": "code",
   "execution_count": 1,
   "metadata": {},
   "outputs": [
    {
     "name": "stdout",
     "output_type": "stream",
     "text": [
      "광섭\n"
     ]
    }
   ],
   "source": [
    "a=3\n",
    "if a>1:\n",
    "    print(\"광섭\")\n",
    "    \n",
    "    "
   ]
  },
  {
   "cell_type": "code",
   "execution_count": 2,
   "metadata": {
    "scrolled": true
   },
   "outputs": [
    {
     "name": "stdout",
     "output_type": "stream",
     "text": [
      "1\n",
      "2\n",
      "3\n"
     ]
    }
   ],
   "source": [
    "for a in [1,2,3]:\n",
    "    print(a)"
   ]
  },
  {
   "cell_type": "code",
   "execution_count": 4,
   "metadata": {},
   "outputs": [
    {
     "name": "stdout",
     "output_type": "stream",
     "text": [
      "3\n"
     ]
    }
   ],
   "source": [
    "i=0\n",
    "while i<3:\n",
    "    i=i+1\n",
    "print(i)"
   ]
  },
  {
   "cell_type": "code",
   "execution_count": 5,
   "metadata": {
    "scrolled": true
   },
   "outputs": [
    {
     "name": "stdout",
     "output_type": "stream",
     "text": [
      "103\n"
     ]
    }
   ],
   "source": [
    "def sum(a,b):\n",
    "    return a+b\n",
    "print(sum(3,100))"
   ]
  },
  {
   "cell_type": "markdown",
   "metadata": {},
   "source": [
    "# 사칙연산"
   ]
  },
  {
   "cell_type": "code",
   "execution_count": 7,
   "metadata": {
    "scrolled": true
   },
   "outputs": [
    {
     "data": {
      "text/plain": [
       "81"
      ]
     },
     "execution_count": 7,
     "metadata": {},
     "output_type": "execute_result"
    }
   ],
   "source": [
    "#제곱-> **\n",
    "a=3\n",
    "b=4\n",
    "a**b\n",
    "#3^4=81"
   ]
  },
  {
   "cell_type": "code",
   "execution_count": 11,
   "metadata": {},
   "outputs": [
    {
     "name": "stdout",
     "output_type": "stream",
     "text": [
      "1\n",
      "2.3333333333333335\n"
     ]
    }
   ],
   "source": [
    "#나머지 반환-> %\n",
    "print(7%3)\n",
    "print(7/3)\n",
    "#7/3=2+1/3"
   ]
  },
  {
   "cell_type": "code",
   "execution_count": 12,
   "metadata": {
    "scrolled": true
   },
   "outputs": [
    {
     "name": "stdout",
     "output_type": "stream",
     "text": [
      "2.3333333333333335\n",
      "2\n"
     ]
    }
   ],
   "source": [
    "#나눗셈 후 소수점 아랫자리 버림 -> //\n",
    "print(7/3) #일반 나누기\n",
    "print(7//3) #소수점 버리기\n",
    "#2.3333333333333335\n",
    "#2"
   ]
  },
  {
   "cell_type": "markdown",
   "metadata": {},
   "source": [
    "# 문자열 자료형"
   ]
  },
  {
   "cell_type": "code",
   "execution_count": 14,
   "metadata": {},
   "outputs": [
    {
     "data": {
      "text/plain": [
       "'Life is too short, You need Python'"
      ]
     },
     "execution_count": 14,
     "metadata": {},
     "output_type": "execute_result"
    }
   ],
   "source": [
    "\"Hello World\"\n",
    "'Python is fun'\n",
    "\"\"\"Life is too short, You need Python\"\"\"\n",
    "'''Life is too short, You need Python'''\n",
    "#문자열을 감싸는 4가지 방법"
   ]
  },
  {
   "cell_type": "code",
   "execution_count": 16,
   "metadata": {},
   "outputs": [
    {
     "name": "stdout",
     "output_type": "stream",
     "text": [
      "Python\\s favorite food is perl\n",
      "\"Python is very easy.\" he says.\n"
     ]
    }
   ],
   "source": [
    "#문자열 안에 작은 따옴표나 큰따옴표 포함할때\n",
    "#내부와 외부를 서로 다른 따옴표 구성\n",
    "#\\(백슬래쉬)를 사용\n",
    "food='Python\\s favorite food is perl'\n",
    "say=\"\\\"Python is very easy.\\\" he says.\"\n",
    "print(food)\n",
    "print(say)"
   ]
  },
  {
   "cell_type": "code",
   "execution_count": 21,
   "metadata": {},
   "outputs": [
    {
     "name": "stdout",
     "output_type": "stream",
     "text": [
      "Life is too short\n",
      "You need python\n",
      "\n",
      "Life is too short\n",
      "You need python\n",
      "\n"
     ]
    }
   ],
   "source": [
    "#여러 줄인 문자열을 변수에 대입\n",
    "#\\n\n",
    "#따옴표 3개\n",
    "multiline=\"Life is too short\\nYou need python\"\n",
    "print(multiline)\n",
    "multiline2='''\n",
    "Life is too short\n",
    "You need python\n",
    "'''\n",
    "print(multiline2)"
   ]
  },
  {
   "cell_type": "markdown",
   "metadata": {},
   "source": [
    "# 이스케이프코드 (Escape code)\n",
    "### \\n: 문자열 안에서 줄을 바꿈\n",
    "### \\t: 문자열 사이에 탭 간격을 줄 때 사용\n",
    "### \\\\: 문자\\를 그대로 표현 할 때 사용\n",
    "### \\': 작은 따옴표(')를 그대로 표현 할 때 사용\n",
    "### \\\": 큰 따옴표(\")를 그대로 표현 할 때 사용\n",
    "### \\r: 캐리지 리턴(줄바꿈 문자, 현재 커서를 가장 앞으로 이동)\n",
    "### \\f: 폼 피드(줄바꿈 문자, 현재 커서를 다음 줄로 이동)\n",
    "### \\a: 벨 소리(출력 시 스피커에서 알람소리가 난다) -> import os;os.system('\\a')\n",
    "### \\b: 백 스페이스\n",
    "### \\000 : 널 문자(null)"
   ]
  },
  {
   "cell_type": "markdown",
   "metadata": {},
   "source": [
    "# 문자열 연산하기"
   ]
  },
  {
   "cell_type": "code",
   "execution_count": 44,
   "metadata": {},
   "outputs": [
    {
     "data": {
      "text/plain": [
       "'Python is fun!'"
      ]
     },
     "execution_count": 44,
     "metadata": {},
     "output_type": "execute_result"
    }
   ],
   "source": [
    "#문자열 더해서 연결\n",
    "head= \"Python\"\n",
    "tail=\" is fun!\"\n",
    "head+tail"
   ]
  },
  {
   "cell_type": "code",
   "execution_count": 45,
   "metadata": {},
   "outputs": [
    {
     "data": {
      "text/plain": [
       "'pythonpython'"
      ]
     },
     "execution_count": 45,
     "metadata": {},
     "output_type": "execute_result"
    }
   ],
   "source": [
    "# 문자열 곱하기\n",
    "#head*tail -> 문자열*문자열 에러\n",
    "a=\"python\"\n",
    "b=2\n",
    "a*b"
   ]
  },
  {
   "cell_type": "code",
   "execution_count": 46,
   "metadata": {
    "scrolled": true
   },
   "outputs": [
    {
     "name": "stdout",
     "output_type": "stream",
     "text": [
      "==================================================\n",
      "My Program\n",
      "==================================================\n"
     ]
    }
   ],
   "source": [
    "#문자열 곱하기 응용\n",
    "print(\"=\" * 50 )\n",
    "print(\"My Program\")\n",
    "print(\"=\" * 50 )\n",
    "#프로그램이나 모델 등 상단에서 활용"
   ]
  },
  {
   "cell_type": "markdown",
   "metadata": {},
   "source": [
    "# 문자열 인덱싱과 슬라이싱"
   ]
  },
  {
   "cell_type": "code",
   "execution_count": 58,
   "metadata": {},
   "outputs": [
    {
     "name": "stdout",
     "output_type": "stream",
     "text": [
      "o\n",
      "o\n",
      "True\n",
      "n\n"
     ]
    }
   ],
   "source": [
    "#문자열 인덱싱\n",
    "a=\"Life is too short, You need Python\"\n",
    "\"\"\"0         1         2         3   \"\"\" \n",
    "\"\"\"0123456789012345678901234567890123\"\"\"\n",
    "\n",
    "len(a)\n",
    "print(a[20])\n",
    "print(a[10])\n",
    "print(a[20]==a[10])\n",
    "print(a[-1]) #뒤에서 1번째\n",
    "print(a[-0]) #0과 -0은 같은 값 상식적으로 0과 -0은 같은 값"
   ]
  },
  {
   "cell_type": "code",
   "execution_count": 67,
   "metadata": {
    "scrolled": true
   },
   "outputs": [
    {
     "name": "stdout",
     "output_type": "stream",
     "text": [
      "ife\n",
      "Life\n",
      " i\n",
      "e is too short, You need P\n",
      "Life is too short, You need Python\n"
     ]
    },
    {
     "data": {
      "text/plain": [
       "' You nee'"
      ]
     },
     "execution_count": 67,
     "metadata": {},
     "output_type": "execute_result"
    }
   ],
   "source": [
    "#문자열 슬라이싱\n",
    "a=\"Life is too short, You need Python\"\n",
    "\"\"\"0123456789012345678901234567890123\"\"\"\n",
    "\"\"\"0         1         2         3   \"\"\" \n",
    "\n",
    "print(a[1:4])\n",
    "print(a[:4])\n",
    "print(a[4:6])\n",
    "#a[4:6]의 범위는 4 <= number < 6\n",
    "#끝번호 포함하지 않음\n",
    "print(a[3:len(a)-5])\n",
    "print(a[:])# 전범위 출력\n",
    "a[18:-8] #18번 문자 부터 뒤에서 8번째 문자까지"
   ]
  },
  {
   "cell_type": "code",
   "execution_count": 69,
   "metadata": {},
   "outputs": [
    {
     "name": "stdout",
     "output_type": "stream",
     "text": [
      "20010331\n",
      "Rainy\n"
     ]
    }
   ],
   "source": [
    "# 슬라이싱으로 문자열 나누기\n",
    "a= \"20010331Rainy\"\n",
    "date=a[:8] #8번 문자 미포함\n",
    "weather=a[8:] #8번 문자 포함\n",
    "print(date)\n",
    "print(weather)\n"
   ]
  },
  {
   "cell_type": "code",
   "execution_count": 77,
   "metadata": {},
   "outputs": [
    {
     "name": "stdout",
     "output_type": "stream",
     "text": [
      "i\n",
      "pithon\n"
     ]
    },
    {
     "data": {
      "text/plain": [
       "'python'"
      ]
     },
     "execution_count": 77,
     "metadata": {},
     "output_type": "execute_result"
    }
   ],
   "source": [
    "# 문자열 바꾸기\n",
    "a=\"pithon\"\n",
    "print(a[1])\n",
    "#a[1]=\"y\"\n",
    "print(a)\n",
    "#에러 발생\n",
    "#문자열은 직접 바꿀 수없음\n",
    "b=a[0]+\"y\"+a[2:]\n",
    "b\n",
    "#앞 뒤 인덱싱을 통해 문자 재조합"
   ]
  },
  {
   "cell_type": "markdown",
   "metadata": {},
   "source": [
    "# 문자열 포매팅"
   ]
  },
  {
   "cell_type": "code",
   "execution_count": 80,
   "metadata": {},
   "outputs": [
    {
     "data": {
      "text/plain": [
       "'i eat 3 apples.'"
      ]
     },
     "execution_count": 80,
     "metadata": {},
     "output_type": "execute_result"
    }
   ],
   "source": [
    "#숫자 바로 대입\n",
    "\"i eat %d apples.\"% 3\n",
    "#숫자를 넣고 싶은 곳에 %d를 넣고 문자열 포맷 코드로 따로 변수 처럼 전달"
   ]
  },
  {
   "cell_type": "code",
   "execution_count": 81,
   "metadata": {},
   "outputs": [
    {
     "data": {
      "text/plain": [
       "'i eat five apples.'"
      ]
     },
     "execution_count": 81,
     "metadata": {},
     "output_type": "execute_result"
    }
   ],
   "source": [
    "#문자열 바로 대입\n",
    "\"i eat %s apples.\" % \"five\"\n",
    "#문자를 넣고 싶은 곳에 %s를 미리 넣고 문자열 포맷 코드로 따로 변수 처럼 전달"
   ]
  },
  {
   "cell_type": "code",
   "execution_count": 83,
   "metadata": {},
   "outputs": [
    {
     "data": {
      "text/plain": [
       "'i like number 3'"
      ]
     },
     "execution_count": 83,
     "metadata": {},
     "output_type": "execute_result"
    }
   ],
   "source": [
    "#숫자 값을 나타내는 변수로 대입\n",
    "number=3\n",
    "\"i like number %d\" % number\n",
    "#문자열 포맷 코드에 변수를 넣어 전달 가능"
   ]
  },
  {
   "cell_type": "code",
   "execution_count": 85,
   "metadata": {},
   "outputs": [
    {
     "data": {
      "text/plain": [
       "'i ate 10 apples. so i was sick for 20 days.'"
      ]
     },
     "execution_count": 85,
     "metadata": {},
     "output_type": "execute_result"
    }
   ],
   "source": [
    "#2개 이상의 값 넣기\n",
    "number=10\n",
    "day=20\n",
    "\"i ate %d apples. so i was sick for %d days.\" % (number,day)\n",
    "#2개 이상의 변수를 넣고 싶으면 % 다음 괄호  안에 콤마로 구분하여 각각 전달"
   ]
  },
  {
   "cell_type": "markdown",
   "metadata": {},
   "source": [
    "# 문자열 포맷 코드\n",
    "### %s : 문자열\n",
    "### %c : 문자 1개(character)\n",
    "### %d : 정수\n",
    "### %f : 부동 소수(float-point)\n",
    "### %o : 8진수\n",
    "### %x :16진수\n",
    "### %% : Literal % (문자 '%' 자체)"
   ]
  },
  {
   "cell_type": "code",
   "execution_count": null,
   "metadata": {},
   "outputs": [],
   "source": [
    "# %s 는 어떤 값이든 변환해 넣을 수 있다.\n",
    "# %s 는 어떤 값이든 문자열로 바꾼다"
   ]
  },
  {
   "cell_type": "code",
   "execution_count": 86,
   "metadata": {},
   "outputs": [
    {
     "data": {
      "text/plain": [
       "'Error is 98%'"
      ]
     },
     "execution_count": 86,
     "metadata": {},
     "output_type": "execute_result"
    }
   ],
   "source": [
    "# 포매팅 연산자 %d와 특수문자 %를 같이 쓸 때는 %%를 쓴다\n",
    "\n",
    "# \"Error is %d%.\"%98 -> \"Error is 98%\"를 의도하였지만 에러 발생\n",
    "\n",
    "#포매팅 연산자와 %가 같이 나올 경우 반드시 %%를 사용하여야 함\n",
    "\n",
    "\"Error is %d%%\"%98 "
   ]
  },
  {
   "cell_type": "markdown",
   "metadata": {},
   "source": [
    "# 포맷코드와 숫자 함께 사용하기"
   ]
  },
  {
   "cell_type": "code",
   "execution_count": 90,
   "metadata": {},
   "outputs": [
    {
     "name": "stdout",
     "output_type": "stream",
     "text": [
      "        hi\n",
      "hi        jane.\n"
     ]
    }
   ],
   "source": [
    "#정렬과 공백\n",
    "print(\"%10s\"% \"hi\")\n",
    "#전체 길이가 10인 문자열의 공백에 hi를 넣음\n",
    "# hi가 2글자 임으로 공백은 길이가 8\n",
    "print(\"%-10sjane.\" % \"hi\")\n",
    "#문자열의 길이가 10인 것 중에 뒤에 공백을 넣는다 즉 문자가 앞으로 감"
   ]
  },
  {
   "cell_type": "code",
   "execution_count": 95,
   "metadata": {},
   "outputs": [
    {
     "name": "stdout",
     "output_type": "stream",
     "text": [
      "3.1412\n",
      "  341.1234\n"
     ]
    }
   ],
   "source": [
    "# 소수점 표현하기\n",
    "#소수점 4자리 표현\n",
    "print(\"%0.4f\" % 3.14123123123)\n",
    "#길이가 10인 문자열에 소수점 4자리까지 표현\n",
    "print(\"%10.4f\" % 341.1234444223)\n",
    "# 공백길이3+정수부분 3자리 소수점 4자리\n",
    "# 소수점도 길이에 포함"
   ]
  },
  {
   "cell_type": "markdown",
   "metadata": {},
   "source": [
    "# 문자열 관련 함수들"
   ]
  },
  {
   "cell_type": "code",
   "execution_count": 96,
   "metadata": {
    "scrolled": true
   },
   "outputs": [
    {
     "data": {
      "text/plain": [
       "3"
      ]
     },
     "execution_count": 96,
     "metadata": {},
     "output_type": "execute_result"
    }
   ],
   "source": [
    "#특정 문자 갯수 세기(count)\n",
    "a=\"subbb\"\n",
    "a.count(\"b\")"
   ]
  },
  {
   "cell_type": "code",
   "execution_count": 97,
   "metadata": {},
   "outputs": [
    {
     "data": {
      "text/plain": [
       "2"
      ]
     },
     "execution_count": 97,
     "metadata": {},
     "output_type": "execute_result"
    }
   ],
   "source": [
    "#특정 문자 위치 알려주기1\n",
    "a=\"queen\"\n",
    "a.find(\"e\")\n",
    "#처음 \"e\"가 나온 위치를 알려줌\n",
    "#만약 문자를 포함하지 않는다면 -1 반환"
   ]
  },
  {
   "cell_type": "code",
   "execution_count": 101,
   "metadata": {},
   "outputs": [
    {
     "data": {
      "text/plain": [
       "9"
      ]
     },
     "execution_count": 101,
     "metadata": {},
     "output_type": "execute_result"
    }
   ],
   "source": [
    "#특정 문자 위치 알려주기2\n",
    "a=\"Life is too short\"\n",
    "# a.index(\"a\")없으면 에러\n",
    "a.index(\"o\")\n",
    "#o가 처음 나온 위치 반환"
   ]
  },
  {
   "cell_type": "code",
   "execution_count": 102,
   "metadata": {},
   "outputs": [
    {
     "data": {
      "text/plain": [
       "'a,b,c,d'"
      ]
     },
     "execution_count": 102,
     "metadata": {},
     "output_type": "execute_result"
    }
   ],
   "source": [
    "#문자열 삽입\n",
    "a=\",\"\n",
    "a.join('abcd')\n"
   ]
  },
  {
   "cell_type": "code",
   "execution_count": 108,
   "metadata": {},
   "outputs": [
    {
     "name": "stdout",
     "output_type": "stream",
     "text": [
      "HI\n",
      "hi\n"
     ]
    }
   ],
   "source": [
    "#소문자를 대문자로 바꾸기(upper)\n",
    "a=\"hi\"\n",
    "b=a.upper()\n",
    "print(b)\n",
    "c=b.lower()\n",
    "print(c)\n"
   ]
  },
  {
   "cell_type": "code",
   "execution_count": 109,
   "metadata": {},
   "outputs": [
    {
     "data": {
      "text/plain": [
       "'hi'"
      ]
     },
     "execution_count": 109,
     "metadata": {},
     "output_type": "execute_result"
    }
   ],
   "source": [
    "#왼쪽 공백 지우기(lstrip)\n",
    "a=\" hi\"\n",
    "a.lstrip()"
   ]
  },
  {
   "cell_type": "code",
   "execution_count": 110,
   "metadata": {},
   "outputs": [
    {
     "data": {
      "text/plain": [
       "'hi'"
      ]
     },
     "execution_count": 110,
     "metadata": {},
     "output_type": "execute_result"
    }
   ],
   "source": [
    "#오른쪽 공백 지우기(rstrip)\n",
    "a=\"hi \"\n",
    "a.rstrip()"
   ]
  },
  {
   "cell_type": "code",
   "execution_count": 111,
   "metadata": {},
   "outputs": [
    {
     "data": {
      "text/plain": [
       "'hi'"
      ]
     },
     "execution_count": 111,
     "metadata": {},
     "output_type": "execute_result"
    }
   ],
   "source": [
    "#양쪽 공백 지우기(strip)\n",
    "a=\"   hi   \"\n",
    "a.strip()"
   ]
  },
  {
   "cell_type": "code",
   "execution_count": 113,
   "metadata": {},
   "outputs": [
    {
     "data": {
      "text/plain": [
       "'happiness is best'"
      ]
     },
     "execution_count": 113,
     "metadata": {},
     "output_type": "execute_result"
    }
   ],
   "source": [
    "#문자열 바꾸기\n",
    "a=\"money is best\"\n",
    "a.replace(\"money\",\"happiness\")\n",
    "#대상 문자,새로운 문자"
   ]
  },
  {
   "cell_type": "code",
   "execution_count": 116,
   "metadata": {},
   "outputs": [
    {
     "name": "stdout",
     "output_type": "stream",
     "text": [
      "['Life', 'is', 'too', 'short']\n",
      "['a', 'b', 'c', 'd']\n"
     ]
    }
   ],
   "source": [
    "#문자열 나누기\n",
    "a=\"Life is too short\"\n",
    "print(a.split())\n",
    "# split의 기본값은 공백 단위로 문자를 자름\n",
    "a=\"a:b:c:d\"\n",
    "print(a.split(\":\"))\n",
    "#split은 반환값을 리스트로 반환"
   ]
  },
  {
   "cell_type": "markdown",
   "metadata": {},
   "source": [
    "# 고급 문자열 포매팅"
   ]
  },
  {
   "cell_type": "code",
   "execution_count": 129,
   "metadata": {},
   "outputs": [
    {
     "name": "stdout",
     "output_type": "stream",
     "text": [
      "i eat 32 apples\n",
      "i eat eight apples\n",
      "i eat 3 apples\n",
      "i was sick till for 10 days til last monday\n",
      "i was sick till for 10 days til last monday\n",
      "i was sick till for 10 days til last monday\n"
     ]
    }
   ],
   "source": [
    "#숫자 바로 대입 하기\n",
    "print(\"i eat {0} apples\".format(32))\n",
    "print(\"i eat {0} apples\".format(\"eight\"))\n",
    "#{0}에 숫자 및 문자를 바로 대입\n",
    "\n",
    "#숫자 값을 가진 변수로 대입하기\n",
    "number=3\n",
    "print(\"i eat {0} apples\".format(number))\n",
    "\n",
    "#2개 이상의 값 넣기\n",
    "number=10\n",
    "day=\"mon\"\n",
    "print(\"i was sick till for {0} days til last {1}day\".format(number,day))\n",
    "\n",
    "#변수 이름으로 넣기(좀더 직관적일듯)\n",
    "print(\"i was sick till for {number} days til last {day}day\".format(number=10,day=\"mon\"))\n",
    "\n",
    "#인덱스와 이름을 혼용해서 넣기\n",
    "print(\"i was sick till for {0} days til last {day}day\".format(10,day=\"mon\"))"
   ]
  },
  {
   "cell_type": "code",
   "execution_count": 144,
   "metadata": {
    "scrolled": true
   },
   "outputs": [
    {
     "name": "stdout",
     "output_type": "stream",
     "text": [
      "hi        1\n",
      "        hi\n",
      "    hi    \n",
      "!!!!!!!!hi\n",
      "----hi----\n"
     ]
    }
   ],
   "source": [
    "#10개의 문자열 중의 왼쪽에 문자를 넣음\n",
    "print(\"{0:<10}\".format(\"hi\")+\"1\")\n",
    "#10개의 문자열 중의 오른쪽에 문자를 넣음\n",
    "print(\"{0:>10}\".format(\"hi\"))\n",
    "# :< -> 왼쪽 정렬\n",
    "# :> -> 오른쪽 정렬\n",
    "\n",
    "#가운데 정렬\n",
    "print(\"{0:^10}\".format(\"hi\"))\n",
    "\n",
    "#공백 채우기\n",
    "print(\"{0:!>10}\".format(\"hi\"))\n",
    "#문자를 오른쪽에 넣고 공백에 !를 넣음\n",
    "print(\"{0:-^10}\".format(\"hi\"))\n",
    "#문자를 가운데 넣고 공백에 -를 넣음"
   ]
  },
  {
   "cell_type": "code",
   "execution_count": 168,
   "metadata": {},
   "outputs": [
    {
     "name": "stdout",
     "output_type": "stream",
     "text": [
      "3.4121\n",
      "    3.4121\n",
      "3.4121    \n"
     ]
    }
   ],
   "source": [
    "#소수점 표현하기\n",
    "y=3.412123123\n",
    "print(\"{0:0.4f}\".format(y))\n",
    "#0번째 자리 부터 소수점 네자리 숫자 반환\n",
    "print(\"{0:10.4f}\".format(y))\n",
    "#길이 10을 가진 숫자에서 소수점 네자리까지만 갖는 숫자와 공백을 반환\n",
    "print(\"{0:<10.4f}\".format(y))\n",
    "#왼쪽 정렬"
   ]
  },
  {
   "cell_type": "code",
   "execution_count": 174,
   "metadata": {},
   "outputs": [
    {
     "data": {
      "text/plain": [
       "'{ and }'"
      ]
     },
     "execution_count": 174,
     "metadata": {},
     "output_type": "execute_result"
    }
   ],
   "source": [
    "#{ 또는 } 문자 표현하기\n",
    "\"{{ and }}\".format()"
   ]
  }
 ],
 "metadata": {
  "kernelspec": {
   "display_name": "Python 3",
   "language": "python",
   "name": "python3"
  },
  "language_info": {
   "codemirror_mode": {
    "name": "ipython",
    "version": 3
   },
   "file_extension": ".py",
   "mimetype": "text/x-python",
   "name": "python",
   "nbconvert_exporter": "python",
   "pygments_lexer": "ipython3",
   "version": "3.6.5"
  }
 },
 "nbformat": 4,
 "nbformat_minor": 2
}
